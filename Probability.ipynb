{
 "cells": [
  {
   "cell_type": "markdown",
   "metadata": {},
   "source": [
    "Randomizing Function"
   ]
  },
  {
   "cell_type": "code",
   "execution_count": 16,
   "metadata": {},
   "outputs": [
    {
     "name": "stdout",
     "output_type": "stream",
     "text": [
      "H T T\n",
      "T T T\n",
      "T T H\n",
      "T H H\n",
      "T T T\n",
      "H T H\n",
      "T H H\n",
      "T H T\n",
      "T T T\n",
      "T T T\n",
      "[['H', 'T', 'T'], ['T', 'T', 'T'], ['T', 'T', 'H'], ['T', 'H', 'H'], ['T', 'T', 'T'], ['H', 'T', 'H'], ['T', 'H', 'H'], ['T', 'H', 'T'], ['T', 'T', 'T'], ['T', 'T', 'T']]\n"
     ]
    }
   ],
   "source": [
    "from random import choices\n",
    "\n",
    "event = ['H', 'T']\n",
    "\n",
    "# Here we are saying the probability of getting Heads is 0.3,\n",
    "# and that the probability of getting Tails is 0.7\n",
    "weights = [0.3, 0.7]\n",
    "randomList = list()\n",
    "for _ in range(10):\n",
    "    randomList.append([choices(event, weights)[0],choices(event, weights)[0],choices(event, weights)[0]])\n",
    "    print(random1,random2,random3)\n",
    "print(randomList)\n",
    "# Look at the below print statement.\n",
    "# The number of Heads should be roughly 30%\n",
    "# and the number of Tails should be roughly 70%\n",
    "# You can change the range above to get more values,\n",
    "# and see the percentage increase"
   ]
  },
  {
   "cell_type": "markdown",
   "metadata": {},
   "source": [
    "Probablity Function"
   ]
  },
  {
   "cell_type": "code",
   "execution_count": null,
   "metadata": {},
   "outputs": [],
   "source": []
  },
  {
   "cell_type": "code",
   "execution_count": 35,
   "metadata": {},
   "outputs": [
    {
     "name": "stdout",
     "output_type": "stream",
     "text": [
      "\n",
      "372\n",
      "0.372\n"
     ]
    }
   ],
   "source": [
    "from random import choices\n",
    "\n",
    "# head_prob = [0.3, 0.7]\n",
    "\n",
    "def probablity(head_prob, flips):\n",
    "    counter = 0\n",
    "    count = 0\n",
    "    \n",
    "    weights = [head_prob, 1 - head_prob]\n",
    "    \n",
    "#     randomList = list()  \n",
    "    for i in range(flips):\n",
    "        randomList.append([choices(event, weights)[0],choices(event, weights)[0],choices(event, weights)[0]])\n",
    "#         randomList = [choices(event, weights)[0],choices(event, weights)[0],choices(event, weights)[0]]\n",
    "        \n",
    "    for randoms in randomList:\n",
    "        for x in randoms:\n",
    "            if x == 'H':\n",
    "                counter += 1\n",
    "        if counter == 2:\n",
    "#             count.append({\"index\":idx+1})\n",
    "          count += 1\n",
    "        counter = 0\n",
    "    print()\n",
    "    print(count)\n",
    "    return count/flips\n",
    "\n",
    "print(probablity(.5, 1000))"
   ]
  },
  {
   "cell_type": "code",
   "execution_count": null,
   "metadata": {},
   "outputs": [],
   "source": []
  },
  {
   "cell_type": "code",
   "execution_count": null,
   "metadata": {},
   "outputs": [],
   "source": []
  }
 ],
 "metadata": {
  "kernelspec": {
   "display_name": "Python 3",
   "language": "python",
   "name": "python3"
  },
  "language_info": {
   "codemirror_mode": {
    "name": "ipython",
    "version": 3
   },
   "file_extension": ".py",
   "mimetype": "text/x-python",
   "name": "python",
   "nbconvert_exporter": "python",
   "pygments_lexer": "ipython3",
   "version": "3.7.0"
  }
 },
 "nbformat": 4,
 "nbformat_minor": 2
}
