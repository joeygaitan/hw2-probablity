{
 "cells": [
  {
   "cell_type": "markdown",
   "metadata": {},
   "source": [
    "Randomizing Function"
   ]
  },
  {
   "cell_type": "code",
   "execution_count": 9,
   "metadata": {},
   "outputs": [
    {
     "name": "stdout",
     "output_type": "stream",
     "text": [
      "T H T\n",
      "H T T\n",
      "T T T\n",
      "T T T\n",
      "H T T\n",
      "T T H\n",
      "H T H\n",
      "T T H\n",
      "H H H\n",
      "H T T\n",
      "[['T', 'H', 'T'], ['H', 'T', 'T'], ['T', 'T', 'T'], ['T', 'T', 'T'], ['H', 'T', 'T'], ['T', 'T', 'H'], ['H', 'T', 'H'], ['T', 'T', 'H'], ['H', 'H', 'H'], ['H', 'T', 'T']]\n"
     ]
    }
   ],
   "source": [
    "from random import choices\n",
    "\n",
    "event = ['H', 'T']\n",
    "\n",
    "# Here we are saying the probability of getting Heads is 0.3,\n",
    "# and that the probability of getting Tails is 0.7\n",
    "weights = [0.3, 0.7]\n",
    "randomList = list()\n",
    "for _ in range(10):\n",
    "    random1 = choices(event, weights)[0]\n",
    "    random2 = choices(event, weights)[0]\n",
    "    random3 = choices(event, weights)[0]\n",
    "    randomList.append([random1,random2,random3])\n",
    "    print(random1,random2,random3)\n",
    "print(randomList)\n",
    "# Look at the below print statement.\n",
    "# The number of Heads should be roughly 30%\n",
    "# and the number of Tails should be roughly 70%\n",
    "# You can change the range above to get more values,\n",
    "# and see the percentage increase"
   ]
  },
  {
   "cell_type": "markdown",
   "metadata": {},
   "source": [
    "Probablity Function"
   ]
  },
  {
   "cell_type": "code",
   "execution_count": 5,
   "metadata": {},
   "outputs": [
    {
     "ename": "SyntaxError",
     "evalue": "unexpected EOF while parsing (<ipython-input-5-8f7d5865c2ca>, line 3)",
     "output_type": "error",
     "traceback": [
      "\u001b[0;36m  File \u001b[0;32m\"<ipython-input-5-8f7d5865c2ca>\"\u001b[0;36m, line \u001b[0;32m3\u001b[0m\n\u001b[0;31m    \u001b[0m\n\u001b[0m    ^\u001b[0m\n\u001b[0;31mSyntaxError\u001b[0m\u001b[0;31m:\u001b[0m unexpected EOF while parsing\n"
     ]
    }
   ],
   "source": [
    "\n",
    "def probablity(prob, flips):\n",
    "    \n",
    "    "
   ]
  },
  {
   "cell_type": "code",
   "execution_count": null,
   "metadata": {},
   "outputs": [],
   "source": []
  }
 ],
 "metadata": {
  "kernelspec": {
   "display_name": "Python 3",
   "language": "python",
   "name": "python3"
  },
  "language_info": {
   "codemirror_mode": {
    "name": "ipython",
    "version": 3
   },
   "file_extension": ".py",
   "mimetype": "text/x-python",
   "name": "python",
   "nbconvert_exporter": "python",
   "pygments_lexer": "ipython3",
   "version": "3.7.0"
  }
 },
 "nbformat": 4,
 "nbformat_minor": 2
}
